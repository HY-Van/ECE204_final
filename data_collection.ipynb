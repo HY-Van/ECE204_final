{
 "cells": [
  {
   "cell_type": "code",
   "execution_count": 34,
   "metadata": {},
   "outputs": [],
   "source": [
    "from scholarly import scholarly\n",
    "import os\n",
    "import json\n",
    "import csv\n",
    "from pprint import pprint\n",
    "import numpy as np\n",
    "import pandas as pd\n"
   ]
  },
  {
   "cell_type": "code",
   "execution_count": 2,
   "metadata": {},
   "outputs": [
    {
     "data": {
      "text/plain": [
       "80"
      ]
     },
     "execution_count": 2,
     "metadata": {},
     "output_type": "execute_result"
    }
   ],
   "source": [
    "search_query = scholarly.search_pubs('Time Expression Analysis and Recognition Using Syntactic Token Types and General Heuristic Rules')\n",
    "temp = next(search_query)\n",
    "temp['num_citations']"
   ]
  },
  {
   "cell_type": "code",
   "execution_count": 28,
   "metadata": {},
   "outputs": [],
   "source": [
    "def get_paper_info(conference_name, paper_type):\n",
    "    reviews_dir = f\"PeerRead/data/{conference_name}/{paper_type}/reviews\"\n",
    "    papers = []\n",
    "    for filename in os.listdir(reviews_dir):\n",
    "        file_path = os.path.join(reviews_dir, filename)\n",
    "        if filename.endswith('.json'):\n",
    "            with open(file_path, 'r') as f:\n",
    "                data = json.load(f)\n",
    "                title = data['title']\n",
    "                for review in data['reviews']:\n",
    "                    paper = {\n",
    "                        'title': title,\n",
    "                        \"IMPACT\": review.get(\"IMPACT\", np.nan),\n",
    "                        \"SUBSTANCE\": review.get(\"SUBSTANCE\", np.nan),\n",
    "                        \"APPROPRIATENESS\": review.get(\"APPROPRIATENESS\", np.nan),\n",
    "                        \"MEANINGFUL_COMPARISON\": review.get(\"MEANINGFUL_COMPARISON\", np.nan),\n",
    "                        \"PRESENTATION_FORMAT\": review.get(\"PRESENTATION_FORMAT\", np.nan),\n",
    "                        \"comments\": review.get(\"comments\", np.nan),\n",
    "                        \"SOUNDNESS_CORRECTNESS\": review.get(\"SOUNDNESS_CORRECTNESS\", np.nan),\n",
    "                        \"ORIGINALITY\": review.get(\"ORIGINALITY\", np.nan),\n",
    "                        \"RECOMMENDATION\": review.get(\"RECOMMENDATION\", np.nan),\n",
    "                        \"CLARITY\": review.get(\"CLARITY\", np.nan),\n",
    "                        \"REVIEWER_CONFIDENCE\": review.get(\"REVIEWER_CONFIDENCE\", np.nan)\n",
    "                    }\n",
    "                    papers.append(paper)\n",
    "    return papers\n",
    "                    \n",
    "\n",
    "    "
   ]
  },
  {
   "cell_type": "code",
   "execution_count": 31,
   "metadata": {},
   "outputs": [],
   "source": [
    "conference_names = ['conll_2016', 'acl_2017']\n",
    "paper_types = ['train', 'dev', 'test']\n",
    "papers_conll_2016 = []\n",
    "papers_iclr_2017 = []\n",
    "for conference_name in conference_names:\n",
    "    for paper_type in paper_types:\n",
    "        try:\n",
    "            papers = get_paper_info(conference_name, paper_type)\n",
    "        except:\n",
    "            print(f\"Error processing {conference_name}/{paper_type}\")\n",
    "        papers = get_paper_info(conference_name, paper_type)\n",
    " \n",
    "        if conference_name == 'conll_2016':\n",
    "            papers_conll_2016 += papers\n",
    "        else:\n",
    "            papers_iclr_2017 += papers\n",
    "    "
   ]
  },
  {
   "cell_type": "code",
   "execution_count": 38,
   "metadata": {},
   "outputs": [],
   "source": [
    "conll_2016_df = pd.DataFrame(papers_conll_2016)"
   ]
  },
  {
   "cell_type": "code",
   "execution_count": 37,
   "metadata": {},
   "outputs": [],
   "source": [
    "acl_2017_df = pd.DataFrame(papers_iclr_2017)"
   ]
  },
  {
   "cell_type": "code",
   "execution_count": 39,
   "metadata": {},
   "outputs": [],
   "source": [
    "conll_2016_df.to_pickle('conll_2016.pkl')\n",
    "acl_2017_df.to_pickle('acl_2017.pkl')"
   ]
  },
  {
   "cell_type": "code",
   "execution_count": 42,
   "metadata": {},
   "outputs": [],
   "source": [
    "def get_citations(title):\n",
    "    try:\n",
    "        search_query = scholarly.search_pubs(title)\n",
    "        paper = next(search_query)\n",
    "    except:\n",
    "        return np.nan\n",
    "    return paper['num_citations']"
   ]
  },
  {
   "cell_type": "code",
   "execution_count": null,
   "metadata": {},
   "outputs": [],
   "source": [
    "for i, row in conll_2016_df.iterrows():\n",
    "    title = row['title']\n",
    "    conll_2016_df.at[i, 'num_citations'] = get_citations(title)"
   ]
  },
  {
   "cell_type": "code",
   "execution_count": null,
   "metadata": {},
   "outputs": [],
   "source": []
  }
 ],
 "metadata": {
  "kernelspec": {
   "display_name": "test1",
   "language": "python",
   "name": "python3"
  },
  "language_info": {
   "codemirror_mode": {
    "name": "ipython",
    "version": 3
   },
   "file_extension": ".py",
   "mimetype": "text/x-python",
   "name": "python",
   "nbconvert_exporter": "python",
   "pygments_lexer": "ipython3",
   "version": "3.9.18"
  }
 },
 "nbformat": 4,
 "nbformat_minor": 2
}
